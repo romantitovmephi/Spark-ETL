{
 "cells": [
  {
   "cell_type": "markdown",
   "id": "3ad338f8-b7db-4cc7-a887-7a5fb0c09e0f",
   "metadata": {},
   "source": [
    "Создать пайплайн обработки файла `cars.csv`\n",
    "\n",
    "Посчитать по каждому производителю (поле `manufacturer_name`):\n",
    "- количество объявлений\n",
    "- средний год выпуска автомобилей\n",
    "- минимальную цену\n",
    "- максимальную цену\n",
    "\n",
    "Выгрузить результат в `output.csv`"
   ]
  },
  {
   "cell_type": "code",
   "execution_count": 1,
   "id": "855d1a4a-7034-4e4a-9b62-7301f16a3e11",
   "metadata": {},
   "outputs": [
    {
     "name": "stderr",
     "output_type": "stream",
     "text": [
      "Setting default log level to \"WARN\".\n",
      "To adjust logging level use sc.setLogLevel(newLevel). For SparkR, use setLogLevel(newLevel).\n",
      "24/03/14 16:10:45 WARN NativeCodeLoader: Unable to load native-hadoop library for your platform... using builtin-java classes where applicable\n",
      "                                                                                \r"
     ]
    }
   ],
   "source": [
    "from pyspark.sql import SparkSession, DataFrame\n",
    "import pyspark.sql.functions as F\n",
    "import pyspark.sql.types as t\n",
    "\n",
    "\n",
    "def extract_data(spark: SparkSession) -> DataFrame:\n",
    "    path = \"data/cars.csv\"\n",
    "    return spark.read.option(\"header\", \"true\").csv(path)\n",
    "\n",
    "\n",
    "def transform_data(df: DataFrame) -> DataFrame:\n",
    "    output = (\n",
    "        df\n",
    "        .groupBy(\"manufacturer_name\")\n",
    "        .agg(\n",
    "            F.count(\"manufacturer_name\").alias(\"count\"),\n",
    "            F.round(F.avg(\"year_produced\")).cast(t.IntegerType()).alias(\"avg_year_produced\"),\n",
    "            F.min(F.col(\"price_usd\").cast(t.FloatType())).alias(\"min_price\"),\n",
    "            F.max(F.col(\"price_usd\").cast(t.FloatType())).alias(\"max_price\")  \n",
    "        )\n",
    "        .orderBy(F.col(\"count\").desc())\n",
    "    )\n",
    "    return output\n",
    "\n",
    "\n",
    "def save_data(df: DataFrame) -> None:\n",
    "    df.coalesce(1).write.mode(\"overwrite\").format(\"csv\").save(\"output.csv\")\n",
    "\n",
    "\n",
    "def main():\n",
    "    spark = SparkSession.builder.appName(\"ETL\").getOrCreate()\n",
    "    df = extract_data(spark)\n",
    "    output = transform_data(df)\n",
    "    save_data(output)\n",
    "    #spark.stop()\n",
    "\n",
    "main()\n",
    "\n",
    "\n"
   ]
  },
  {
   "cell_type": "code",
   "execution_count": null,
   "id": "74dfb8d5-49f8-4c40-9287-cfe448f4e011",
   "metadata": {},
   "outputs": [],
   "source": []
  }
 ],
 "metadata": {
  "kernelspec": {
   "display_name": "Python 3 (ipykernel)",
   "language": "python",
   "name": "python3"
  },
  "language_info": {
   "codemirror_mode": {
    "name": "ipython",
    "version": 3
   },
   "file_extension": ".py",
   "mimetype": "text/x-python",
   "name": "python",
   "nbconvert_exporter": "python",
   "pygments_lexer": "ipython3",
   "version": "3.11.2"
  }
 },
 "nbformat": 4,
 "nbformat_minor": 5
}
